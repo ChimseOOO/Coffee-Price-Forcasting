{
  "cells": [
    {
      "cell_type": "code",
      "execution_count": 1,
      "metadata": {
        "id": "4K4J9NzQKyjb"
      },
      "outputs": [],
      "source": [
        "#Prepare and process data\n",
        "import math\n",
        "import pandas as pd #read data file csv\n",
        "import matplotlib.pyplot as plt #draw chart\n",
        "import matplotlib.ticker as ticker #Format\n",
        "import numpy as np #data processing\n",
        "from keras.callbacks import ModelCheckpoint #keep good training\n",
        "from tensorflow.keras.models import load_model #download model\n",
        "from sklearn.preprocessing import MinMaxScaler #normalize data 0->1\n",
        "#Training, model building\n",
        "from keras.models import Sequential #input\n",
        "from keras.layers import Dropout #avoid overfitting\n",
        "from keras.layers import LSTM #dependent learning\n",
        "from keras.layers import Dense #output\n",
        "from tensorflow.keras.layers import BatchNormalization\n",
        "from tensorflow.keras import regularizers\n",
        "\n",
        "#Phân tích chỉ số\n",
        "from sklearn.metrics import r2_score #measure suitability\n",
        "from sklearn.metrics import mean_squared_error #measure MSE and RMSE = sqrt(MSE)\n",
        "from sklearn. metrics import mean_absolute_error #measure mean absolute error\n",
        "from sklearn.metrics import mean_absolute_percentage_error #measure the mean percent absolute error"
      ]
    },
    {
      "cell_type": "code",
      "execution_count": 2,
      "metadata": {
        "colab": {
          "base_uri": "https://localhost:8080/"
        },
        "id": "76IyR3WMLKmD",
        "outputId": "1c01e013-7a2e-47b8-ae83-1b12c1ba1de2"
      },
      "outputs": [
        {
          "output_type": "stream",
          "name": "stdout",
          "text": [
            "Mounted at /content/drive\n"
          ]
        }
      ],
      "source": [
        "#Kết nội google colab với drive\n",
        "from google.colab import drive\n",
        "drive.mount('/content/drive')"
      ]
    },
    {
      "cell_type": "code",
      "execution_count": 3,
      "metadata": {
        "colab": {
          "base_uri": "https://localhost:8080/",
          "height": 423
        },
        "id": "pbIkUprKX990",
        "outputId": "8850d222-1494-4244-ae8b-e8762ea1bd84"
      },
      "outputs": [
        {
          "output_type": "execute_result",
          "data": {
            "text/plain": [
              "            Date  price_coffee  price_oil\n",
              "0     2008-01-14        2051.0      94.20\n",
              "1     2008-01-15        2036.0      91.90\n",
              "2     2008-01-16        2040.0      90.84\n",
              "3     2008-01-17        2037.0      90.13\n",
              "4     2008-01-18        2027.0      90.57\n",
              "...          ...           ...        ...\n",
              "3861  2023-06-30        2697.0      70.64\n",
              "3862  2023-07-03        2750.0      69.79\n",
              "3863  2023-07-04        2744.0      71.06\n",
              "3864  2023-07-05        2713.0      71.79\n",
              "3865  2023-07-06        2510.0      71.80\n",
              "\n",
              "[3866 rows x 3 columns]"
            ],
            "text/html": [
              "\n",
              "  <div id=\"df-82d3c6c8-161e-4426-99b3-ab2f05b8d6eb\">\n",
              "    <div class=\"colab-df-container\">\n",
              "      <div>\n",
              "<style scoped>\n",
              "    .dataframe tbody tr th:only-of-type {\n",
              "        vertical-align: middle;\n",
              "    }\n",
              "\n",
              "    .dataframe tbody tr th {\n",
              "        vertical-align: top;\n",
              "    }\n",
              "\n",
              "    .dataframe thead th {\n",
              "        text-align: right;\n",
              "    }\n",
              "</style>\n",
              "<table border=\"1\" class=\"dataframe\">\n",
              "  <thead>\n",
              "    <tr style=\"text-align: right;\">\n",
              "      <th></th>\n",
              "      <th>Date</th>\n",
              "      <th>price_coffee</th>\n",
              "      <th>price_oil</th>\n",
              "    </tr>\n",
              "  </thead>\n",
              "  <tbody>\n",
              "    <tr>\n",
              "      <th>0</th>\n",
              "      <td>2008-01-14</td>\n",
              "      <td>2051.0</td>\n",
              "      <td>94.20</td>\n",
              "    </tr>\n",
              "    <tr>\n",
              "      <th>1</th>\n",
              "      <td>2008-01-15</td>\n",
              "      <td>2036.0</td>\n",
              "      <td>91.90</td>\n",
              "    </tr>\n",
              "    <tr>\n",
              "      <th>2</th>\n",
              "      <td>2008-01-16</td>\n",
              "      <td>2040.0</td>\n",
              "      <td>90.84</td>\n",
              "    </tr>\n",
              "    <tr>\n",
              "      <th>3</th>\n",
              "      <td>2008-01-17</td>\n",
              "      <td>2037.0</td>\n",
              "      <td>90.13</td>\n",
              "    </tr>\n",
              "    <tr>\n",
              "      <th>4</th>\n",
              "      <td>2008-01-18</td>\n",
              "      <td>2027.0</td>\n",
              "      <td>90.57</td>\n",
              "    </tr>\n",
              "    <tr>\n",
              "      <th>...</th>\n",
              "      <td>...</td>\n",
              "      <td>...</td>\n",
              "      <td>...</td>\n",
              "    </tr>\n",
              "    <tr>\n",
              "      <th>3861</th>\n",
              "      <td>2023-06-30</td>\n",
              "      <td>2697.0</td>\n",
              "      <td>70.64</td>\n",
              "    </tr>\n",
              "    <tr>\n",
              "      <th>3862</th>\n",
              "      <td>2023-07-03</td>\n",
              "      <td>2750.0</td>\n",
              "      <td>69.79</td>\n",
              "    </tr>\n",
              "    <tr>\n",
              "      <th>3863</th>\n",
              "      <td>2023-07-04</td>\n",
              "      <td>2744.0</td>\n",
              "      <td>71.06</td>\n",
              "    </tr>\n",
              "    <tr>\n",
              "      <th>3864</th>\n",
              "      <td>2023-07-05</td>\n",
              "      <td>2713.0</td>\n",
              "      <td>71.79</td>\n",
              "    </tr>\n",
              "    <tr>\n",
              "      <th>3865</th>\n",
              "      <td>2023-07-06</td>\n",
              "      <td>2510.0</td>\n",
              "      <td>71.80</td>\n",
              "    </tr>\n",
              "  </tbody>\n",
              "</table>\n",
              "<p>3866 rows × 3 columns</p>\n",
              "</div>\n",
              "      <button class=\"colab-df-convert\" onclick=\"convertToInteractive('df-82d3c6c8-161e-4426-99b3-ab2f05b8d6eb')\"\n",
              "              title=\"Convert this dataframe to an interactive table.\"\n",
              "              style=\"display:none;\">\n",
              "        \n",
              "  <svg xmlns=\"http://www.w3.org/2000/svg\" height=\"24px\"viewBox=\"0 0 24 24\"\n",
              "       width=\"24px\">\n",
              "    <path d=\"M0 0h24v24H0V0z\" fill=\"none\"/>\n",
              "    <path d=\"M18.56 5.44l.94 2.06.94-2.06 2.06-.94-2.06-.94-.94-2.06-.94 2.06-2.06.94zm-11 1L8.5 8.5l.94-2.06 2.06-.94-2.06-.94L8.5 2.5l-.94 2.06-2.06.94zm10 10l.94 2.06.94-2.06 2.06-.94-2.06-.94-.94-2.06-.94 2.06-2.06.94z\"/><path d=\"M17.41 7.96l-1.37-1.37c-.4-.4-.92-.59-1.43-.59-.52 0-1.04.2-1.43.59L10.3 9.45l-7.72 7.72c-.78.78-.78 2.05 0 2.83L4 21.41c.39.39.9.59 1.41.59.51 0 1.02-.2 1.41-.59l7.78-7.78 2.81-2.81c.8-.78.8-2.07 0-2.86zM5.41 20L4 18.59l7.72-7.72 1.47 1.35L5.41 20z\"/>\n",
              "  </svg>\n",
              "      </button>\n",
              "      \n",
              "  <style>\n",
              "    .colab-df-container {\n",
              "      display:flex;\n",
              "      flex-wrap:wrap;\n",
              "      gap: 12px;\n",
              "    }\n",
              "\n",
              "    .colab-df-convert {\n",
              "      background-color: #E8F0FE;\n",
              "      border: none;\n",
              "      border-radius: 50%;\n",
              "      cursor: pointer;\n",
              "      display: none;\n",
              "      fill: #1967D2;\n",
              "      height: 32px;\n",
              "      padding: 0 0 0 0;\n",
              "      width: 32px;\n",
              "    }\n",
              "\n",
              "    .colab-df-convert:hover {\n",
              "      background-color: #E2EBFA;\n",
              "      box-shadow: 0px 1px 2px rgba(60, 64, 67, 0.3), 0px 1px 3px 1px rgba(60, 64, 67, 0.15);\n",
              "      fill: #174EA6;\n",
              "    }\n",
              "\n",
              "    [theme=dark] .colab-df-convert {\n",
              "      background-color: #3B4455;\n",
              "      fill: #D2E3FC;\n",
              "    }\n",
              "\n",
              "    [theme=dark] .colab-df-convert:hover {\n",
              "      background-color: #434B5C;\n",
              "      box-shadow: 0px 1px 3px 1px rgba(0, 0, 0, 0.15);\n",
              "      filter: drop-shadow(0px 1px 2px rgba(0, 0, 0, 0.3));\n",
              "      fill: #FFFFFF;\n",
              "    }\n",
              "  </style>\n",
              "\n",
              "      <script>\n",
              "        const buttonEl =\n",
              "          document.querySelector('#df-82d3c6c8-161e-4426-99b3-ab2f05b8d6eb button.colab-df-convert');\n",
              "        buttonEl.style.display =\n",
              "          google.colab.kernel.accessAllowed ? 'block' : 'none';\n",
              "\n",
              "        async function convertToInteractive(key) {\n",
              "          const element = document.querySelector('#df-82d3c6c8-161e-4426-99b3-ab2f05b8d6eb');\n",
              "          const dataTable =\n",
              "            await google.colab.kernel.invokeFunction('convertToInteractive',\n",
              "                                                     [key], {});\n",
              "          if (!dataTable) return;\n",
              "\n",
              "          const docLinkHtml = 'Like what you see? Visit the ' +\n",
              "            '<a target=\"_blank\" href=https://colab.research.google.com/notebooks/data_table.ipynb>data table notebook</a>'\n",
              "            + ' to learn more about interactive tables.';\n",
              "          element.innerHTML = '';\n",
              "          dataTable['output_type'] = 'display_data';\n",
              "          await google.colab.output.renderOutput(dataTable, element);\n",
              "          const docLink = document.createElement('div');\n",
              "          docLink.innerHTML = docLinkHtml;\n",
              "          element.appendChild(docLink);\n",
              "        }\n",
              "      </script>\n",
              "    </div>\n",
              "  </div>\n",
              "  "
            ]
          },
          "metadata": {},
          "execution_count": 3
        }
      ],
      "source": [
        "df=pd.read_csv('/content/drive/MyDrive/Coffee Forcasting/data.csv')\n",
        "df"
      ]
    },
    {
      "cell_type": "code",
      "execution_count": 4,
      "metadata": {
        "colab": {
          "base_uri": "https://localhost:8080/"
        },
        "id": "ljxHUGLU_KnK",
        "outputId": "3f3d67fd-9ef9-4de8-9a23-6d4b94f18cd9"
      },
      "outputs": [
        {
          "output_type": "stream",
          "name": "stdout",
          "text": [
            "<class 'pandas.core.frame.DataFrame'>\n",
            "RangeIndex: 3866 entries, 0 to 3865\n",
            "Data columns (total 3 columns):\n",
            " #   Column        Non-Null Count  Dtype  \n",
            "---  ------        --------------  -----  \n",
            " 0   Date          3866 non-null   object \n",
            " 1   price_coffee  3866 non-null   float64\n",
            " 2   price_oil     3866 non-null   float64\n",
            "dtypes: float64(2), object(1)\n",
            "memory usage: 90.7+ KB\n"
          ]
        }
      ],
      "source": [
        "df.info() # kiểm tra dữ liệu đã được định dạng"
      ]
    },
    {
      "cell_type": "code",
      "execution_count": 5,
      "metadata": {
        "colab": {
          "base_uri": "https://localhost:8080/"
        },
        "id": "-7Hxlw_G_Tpr",
        "outputId": "3e46b719-c161-428c-e67f-605a1a84429f"
      },
      "outputs": [
        {
          "output_type": "stream",
          "name": "stdout",
          "text": [
            " Correlation coefficient:  0.5495405027686284\n"
          ]
        }
      ],
      "source": [
        "correlation = df['price_coffee'].corr(df['price_oil'])\n",
        "\n",
        "print(\" Correlation coefficient: \", correlation)"
      ]
    },
    {
      "cell_type": "code",
      "execution_count": 6,
      "metadata": {
        "id": "ROiSSfCm_Ti3"
      },
      "outputs": [],
      "source": [
        "#Định dạng lại cấu trúc của cột Date (định dạng năm-tháng-ngày)\n",
        "df[\"Date\"]=pd.to_datetime(df.Date,format=\"%Y/%m/%d\")"
      ]
    },
    {
      "cell_type": "code",
      "execution_count": 7,
      "metadata": {
        "id": "Zs2cOyyD_oIu"
      },
      "outputs": [],
      "source": [
        "df=pd.DataFrame(df,columns=['Date','price_coffee','price_oil'])\n",
        "df.index=df.Date\n",
        "df.drop(\"Date\",axis=1, inplace=True)"
      ]
    },
    {
      "cell_type": "code",
      "execution_count": 8,
      "metadata": {
        "colab": {
          "base_uri": "https://localhost:8080/",
          "height": 454
        },
        "id": "_6c0hoaR_zOU",
        "outputId": "3fd1dd68-f7b6-4487-9f40-ee70bd52ce07"
      },
      "outputs": [
        {
          "output_type": "execute_result",
          "data": {
            "text/plain": [
              "            price_coffee  price_oil\n",
              "Date                               \n",
              "2008-01-14        2051.0      94.20\n",
              "2008-01-15        2036.0      91.90\n",
              "2008-01-16        2040.0      90.84\n",
              "2008-01-17        2037.0      90.13\n",
              "2008-01-18        2027.0      90.57\n",
              "...                  ...        ...\n",
              "2023-06-30        2697.0      70.64\n",
              "2023-07-03        2750.0      69.79\n",
              "2023-07-04        2744.0      71.06\n",
              "2023-07-05        2713.0      71.79\n",
              "2023-07-06        2510.0      71.80\n",
              "\n",
              "[3866 rows x 2 columns]"
            ],
            "text/html": [
              "\n",
              "  <div id=\"df-e983adfc-8e27-4464-aca2-48a12ac8f4f8\">\n",
              "    <div class=\"colab-df-container\">\n",
              "      <div>\n",
              "<style scoped>\n",
              "    .dataframe tbody tr th:only-of-type {\n",
              "        vertical-align: middle;\n",
              "    }\n",
              "\n",
              "    .dataframe tbody tr th {\n",
              "        vertical-align: top;\n",
              "    }\n",
              "\n",
              "    .dataframe thead th {\n",
              "        text-align: right;\n",
              "    }\n",
              "</style>\n",
              "<table border=\"1\" class=\"dataframe\">\n",
              "  <thead>\n",
              "    <tr style=\"text-align: right;\">\n",
              "      <th></th>\n",
              "      <th>price_coffee</th>\n",
              "      <th>price_oil</th>\n",
              "    </tr>\n",
              "    <tr>\n",
              "      <th>Date</th>\n",
              "      <th></th>\n",
              "      <th></th>\n",
              "    </tr>\n",
              "  </thead>\n",
              "  <tbody>\n",
              "    <tr>\n",
              "      <th>2008-01-14</th>\n",
              "      <td>2051.0</td>\n",
              "      <td>94.20</td>\n",
              "    </tr>\n",
              "    <tr>\n",
              "      <th>2008-01-15</th>\n",
              "      <td>2036.0</td>\n",
              "      <td>91.90</td>\n",
              "    </tr>\n",
              "    <tr>\n",
              "      <th>2008-01-16</th>\n",
              "      <td>2040.0</td>\n",
              "      <td>90.84</td>\n",
              "    </tr>\n",
              "    <tr>\n",
              "      <th>2008-01-17</th>\n",
              "      <td>2037.0</td>\n",
              "      <td>90.13</td>\n",
              "    </tr>\n",
              "    <tr>\n",
              "      <th>2008-01-18</th>\n",
              "      <td>2027.0</td>\n",
              "      <td>90.57</td>\n",
              "    </tr>\n",
              "    <tr>\n",
              "      <th>...</th>\n",
              "      <td>...</td>\n",
              "      <td>...</td>\n",
              "    </tr>\n",
              "    <tr>\n",
              "      <th>2023-06-30</th>\n",
              "      <td>2697.0</td>\n",
              "      <td>70.64</td>\n",
              "    </tr>\n",
              "    <tr>\n",
              "      <th>2023-07-03</th>\n",
              "      <td>2750.0</td>\n",
              "      <td>69.79</td>\n",
              "    </tr>\n",
              "    <tr>\n",
              "      <th>2023-07-04</th>\n",
              "      <td>2744.0</td>\n",
              "      <td>71.06</td>\n",
              "    </tr>\n",
              "    <tr>\n",
              "      <th>2023-07-05</th>\n",
              "      <td>2713.0</td>\n",
              "      <td>71.79</td>\n",
              "    </tr>\n",
              "    <tr>\n",
              "      <th>2023-07-06</th>\n",
              "      <td>2510.0</td>\n",
              "      <td>71.80</td>\n",
              "    </tr>\n",
              "  </tbody>\n",
              "</table>\n",
              "<p>3866 rows × 2 columns</p>\n",
              "</div>\n",
              "      <button class=\"colab-df-convert\" onclick=\"convertToInteractive('df-e983adfc-8e27-4464-aca2-48a12ac8f4f8')\"\n",
              "              title=\"Convert this dataframe to an interactive table.\"\n",
              "              style=\"display:none;\">\n",
              "        \n",
              "  <svg xmlns=\"http://www.w3.org/2000/svg\" height=\"24px\"viewBox=\"0 0 24 24\"\n",
              "       width=\"24px\">\n",
              "    <path d=\"M0 0h24v24H0V0z\" fill=\"none\"/>\n",
              "    <path d=\"M18.56 5.44l.94 2.06.94-2.06 2.06-.94-2.06-.94-.94-2.06-.94 2.06-2.06.94zm-11 1L8.5 8.5l.94-2.06 2.06-.94-2.06-.94L8.5 2.5l-.94 2.06-2.06.94zm10 10l.94 2.06.94-2.06 2.06-.94-2.06-.94-.94-2.06-.94 2.06-2.06.94z\"/><path d=\"M17.41 7.96l-1.37-1.37c-.4-.4-.92-.59-1.43-.59-.52 0-1.04.2-1.43.59L10.3 9.45l-7.72 7.72c-.78.78-.78 2.05 0 2.83L4 21.41c.39.39.9.59 1.41.59.51 0 1.02-.2 1.41-.59l7.78-7.78 2.81-2.81c.8-.78.8-2.07 0-2.86zM5.41 20L4 18.59l7.72-7.72 1.47 1.35L5.41 20z\"/>\n",
              "  </svg>\n",
              "      </button>\n",
              "      \n",
              "  <style>\n",
              "    .colab-df-container {\n",
              "      display:flex;\n",
              "      flex-wrap:wrap;\n",
              "      gap: 12px;\n",
              "    }\n",
              "\n",
              "    .colab-df-convert {\n",
              "      background-color: #E8F0FE;\n",
              "      border: none;\n",
              "      border-radius: 50%;\n",
              "      cursor: pointer;\n",
              "      display: none;\n",
              "      fill: #1967D2;\n",
              "      height: 32px;\n",
              "      padding: 0 0 0 0;\n",
              "      width: 32px;\n",
              "    }\n",
              "\n",
              "    .colab-df-convert:hover {\n",
              "      background-color: #E2EBFA;\n",
              "      box-shadow: 0px 1px 2px rgba(60, 64, 67, 0.3), 0px 1px 3px 1px rgba(60, 64, 67, 0.15);\n",
              "      fill: #174EA6;\n",
              "    }\n",
              "\n",
              "    [theme=dark] .colab-df-convert {\n",
              "      background-color: #3B4455;\n",
              "      fill: #D2E3FC;\n",
              "    }\n",
              "\n",
              "    [theme=dark] .colab-df-convert:hover {\n",
              "      background-color: #434B5C;\n",
              "      box-shadow: 0px 1px 3px 1px rgba(0, 0, 0, 0.15);\n",
              "      filter: drop-shadow(0px 1px 2px rgba(0, 0, 0, 0.3));\n",
              "      fill: #FFFFFF;\n",
              "    }\n",
              "  </style>\n",
              "\n",
              "      <script>\n",
              "        const buttonEl =\n",
              "          document.querySelector('#df-e983adfc-8e27-4464-aca2-48a12ac8f4f8 button.colab-df-convert');\n",
              "        buttonEl.style.display =\n",
              "          google.colab.kernel.accessAllowed ? 'block' : 'none';\n",
              "\n",
              "        async function convertToInteractive(key) {\n",
              "          const element = document.querySelector('#df-e983adfc-8e27-4464-aca2-48a12ac8f4f8');\n",
              "          const dataTable =\n",
              "            await google.colab.kernel.invokeFunction('convertToInteractive',\n",
              "                                                     [key], {});\n",
              "          if (!dataTable) return;\n",
              "\n",
              "          const docLinkHtml = 'Like what you see? Visit the ' +\n",
              "            '<a target=\"_blank\" href=https://colab.research.google.com/notebooks/data_table.ipynb>data table notebook</a>'\n",
              "            + ' to learn more about interactive tables.';\n",
              "          element.innerHTML = '';\n",
              "          dataTable['output_type'] = 'display_data';\n",
              "          await google.colab.output.renderOutput(dataTable, element);\n",
              "          const docLink = document.createElement('div');\n",
              "          docLink.innerHTML = docLinkHtml;\n",
              "          element.appendChild(docLink);\n",
              "        }\n",
              "      </script>\n",
              "    </div>\n",
              "  </div>\n",
              "  "
            ]
          },
          "metadata": {},
          "execution_count": 8
        }
      ],
      "source": [
        "df"
      ]
    },
    {
      "cell_type": "code",
      "execution_count": 9,
      "metadata": {
        "colab": {
          "base_uri": "https://localhost:8080/",
          "height": 440
        },
        "id": "74FEuLnU_5Qe",
        "outputId": "8ddafec9-df3f-4311-d6bd-ee99cd2e4572"
      },
      "outputs": [
        {
          "output_type": "execute_result",
          "data": {
            "text/plain": [
              "<Axes: xlabel='Date'>"
            ]
          },
          "metadata": {},
          "execution_count": 9
        },
        {
          "output_type": "display_data",
          "data": {
            "text/plain": [
              "<Figure size 640x480 with 1 Axes>"
            ],
            "image/png": "[encoded data removed]"
          },
          "metadata": {}
        }
      ],
      "source": [
        "df_for_plot=df.tail(3865)\n",
        "df_for_plot.plot.line()# df_for_plot=df_for_training.tail(5000)"
      ]
    },
    {
      "cell_type": "markdown",
      "metadata": {
        "id": "alzYUrqwAOOt"
      },
      "source": [
        "## **Devided Data**"
      ]
    },
    {
      "cell_type": "code",
      "execution_count": 10,
      "metadata": {
        "colab": {
          "base_uri": "https://localhost:8080/"
        },
        "id": "cNCdQEzaAK-2",
        "outputId": "6f593586-f3af-44e3-f9ef-6242ff91029a"
      },
      "outputs": [
        {
          "output_type": "execute_result",
          "data": {
            "text/plain": [
              "(3866, 2)"
            ]
          },
          "metadata": {},
          "execution_count": 10
        }
      ],
      "source": [
        "df.shape #kiểm tra số dòng của dữ liệu"
      ]
    },
    {
      "cell_type": "code",
      "execution_count": 11,
      "metadata": {
        "colab": {
          "base_uri": "https://localhost:8080/"
        },
        "id": "dZ-9sGQfAUXN",
        "outputId": "131dddcd-5f31-4a27-a66d-dedff0694ff3"
      },
      "outputs": [
        {
          "output_type": "execute_result",
          "data": {
            "text/plain": [
              "array([[2051.  ,   94.2 ],\n",
              "       [2036.  ,   91.9 ],\n",
              "       [2040.  ,   90.84],\n",
              "       ...,\n",
              "       [2744.  ,   71.06],\n",
              "       [2713.  ,   71.79],\n",
              "       [2510.  ,   71.8 ]])"
            ]
          },
          "metadata": {},
          "execution_count": 11
        }
      ],
      "source": [
        "df.values"
      ]
    },
    {
      "cell_type": "code",
      "execution_count": 12,
      "metadata": {
        "colab": {
          "base_uri": "https://localhost:8080/"
        },
        "id": "2PhJGO22AYeq",
        "outputId": "73ca1bd2-fe43-447c-d147-60a85bc14d64"
      },
      "outputs": [
        {
          "output_type": "execute_result",
          "data": {
            "text/plain": [
              "(773, 2)"
            ]
          },
          "metadata": {},
          "execution_count": 12
        }
      ],
      "source": [
        "data=df.values\n",
        "training_data_len = math.ceil(len(data)* 0.8)\n",
        "train_data = data[0: training_data_len, :]\n",
        "train_data.shape\n",
        "test_data=data[training_data_len:]\n",
        "test_data.shape"
      ]
    },
    {
      "cell_type": "code",
      "execution_count": 13,
      "metadata": {
        "colab": {
          "base_uri": "https://localhost:8080/"
        },
        "id": "u5LKZqy_BsO1",
        "outputId": "9cd21c05-75a6-45b8-8736-72047946aec6"
      },
      "outputs": [
        {
          "output_type": "execute_result",
          "data": {
            "text/plain": [
              "array([[2051.  ,   94.2 ],\n",
              "       [2036.  ,   91.9 ],\n",
              "       [2040.  ,   90.84],\n",
              "       ...,\n",
              "       [1198.  ,   36.81],\n",
              "       [1218.  ,   37.29],\n",
              "       [1210.  ,   37.41]])"
            ]
          },
          "metadata": {},
          "execution_count": 13
        }
      ],
      "source": [
        "train_data"
      ]
    },
    {
      "cell_type": "code",
      "execution_count": 13,
      "metadata": {
        "id": "Pu0ylBiZGAas"
      },
      "outputs": [],
      "source": []
    },
    {
      "cell_type": "code",
      "execution_count": 14,
      "metadata": {
        "id": "gC-r_B7UAk80"
      },
      "outputs": [],
      "source": [
        "#Tiến hành chuẩn hoá lại dữ liệu với các giá trị được đưa về từ 0-1\n",
        "sc=MinMaxScaler(feature_range=(0,1))\n",
        "#Chuẩn hoá dữ liệu có tên data\n",
        "sc_train=sc.fit_transform(data)"
      ]
    },
    {
      "cell_type": "code",
      "execution_count": 15,
      "metadata": {
        "colab": {
          "base_uri": "https://localhost:8080/",
          "height": 74
        },
        "id": "31UFyiV1RQTu",
        "outputId": "2faa7247-9af3-4e92-8c1f-34cb666cec25"
      },
      "outputs": [
        {
          "output_type": "execute_result",
          "data": {
            "text/plain": [
              "MinMaxScaler()"
            ],
            "text/html": [
              "<style>#sk-container-id-1 {color: black;background-color: white;}#sk-container-id-1 pre{padding: 0;}#sk-container-id-1 div.sk-toggleable {background-color: white;}#sk-container-id-1 label.sk-toggleable__label {cursor: pointer;display: block;width: 100%;margin-bottom: 0;padding: 0.3em;box-sizing: border-box;text-align: center;}#sk-container-id-1 label.sk-toggleable__label-arrow:before {content: \"▸\";float: left;margin-right: 0.25em;color: #696969;}#sk-container-id-1 label.sk-toggleable__label-arrow:hover:before {color: black;}#sk-container-id-1 div.sk-estimator:hover label.sk-toggleable__label-arrow:before {color: black;}#sk-container-id-1 div.sk-toggleable__content {max-height: 0;max-width: 0;overflow: hidden;text-align: left;background-color: #f0f8ff;}#sk-container-id-1 div.sk-toggleable__content pre {margin: 0.2em;color: black;border-radius: 0.25em;background-color: #f0f8ff;}#sk-container-id-1 input.sk-toggleable__control:checked~div.sk-toggleable__content {max-height: 200px;max-width: 100%;overflow: auto;}#sk-container-id-1 input.sk-toggleable__control:checked~label.sk-toggleable__label-arrow:before {content: \"▾\";}#sk-container-id-1 div.sk-estimator input.sk-toggleable__control:checked~label.sk-toggleable__label {background-color: #d4ebff;}#sk-container-id-1 div.sk-label input.sk-toggleable__control:checked~label.sk-toggleable__label {background-color: #d4ebff;}#sk-container-id-1 input.sk-hidden--visually {border: 0;clip: rect(1px 1px 1px 1px);clip: rect(1px, 1px, 1px, 1px);height: 1px;margin: -1px;overflow: hidden;padding: 0;position: absolute;width: 1px;}#sk-container-id-1 div.sk-estimator {font-family: monospace;background-color: #f0f8ff;border: 1px dotted black;border-radius: 0.25em;box-sizing: border-box;margin-bottom: 0.5em;}#sk-container-id-1 div.sk-estimator:hover {background-color: #d4ebff;}#sk-container-id-1 div.sk-parallel-item::after {content: \"\";width: 100%;border-bottom: 1px solid gray;flex-grow: 1;}#sk-container-id-1 div.sk-label:hover label.sk-toggleable__label {background-color: #d4ebff;}#sk-container-id-1 div.sk-serial::before {content: \"\";position: absolute;border-left: 1px solid gray;box-sizing: border-box;top: 0;bottom: 0;left: 50%;z-index: 0;}#sk-container-id-1 div.sk-serial {display: flex;flex-direction: column;align-items: center;background-color: white;padding-right: 0.2em;padding-left: 0.2em;position: relative;}#sk-container-id-1 div.sk-item {position: relative;z-index: 1;}#sk-container-id-1 div.sk-parallel {display: flex;align-items: stretch;justify-content: center;background-color: white;position: relative;}#sk-container-id-1 div.sk-item::before, #sk-container-id-1 div.sk-parallel-item::before {content: \"\";position: absolute;border-left: 1px solid gray;box-sizing: border-box;top: 0;bottom: 0;left: 50%;z-index: -1;}#sk-container-id-1 div.sk-parallel-item {display: flex;flex-direction: column;z-index: 1;position: relative;background-color: white;}#sk-container-id-1 div.sk-parallel-item:first-child::after {align-self: flex-end;width: 50%;}#sk-container-id-1 div.sk-parallel-item:last-child::after {align-self: flex-start;width: 50%;}#sk-container-id-1 div.sk-parallel-item:only-child::after {width: 0;}#sk-container-id-1 div.sk-dashed-wrapped {border: 1px dashed gray;margin: 0 0.4em 0.5em 0.4em;box-sizing: border-box;padding-bottom: 0.4em;background-color: white;}#sk-container-id-1 div.sk-label label {font-family: monospace;font-weight: bold;display: inline-block;line-height: 1.2em;}#sk-container-id-1 div.sk-label-container {text-align: center;}#sk-container-id-1 div.sk-container {/* jupyter's `normalize.less` sets `[hidden] { display: none; }` but bootstrap.min.css set `[hidden] { display: none !important; }` so we also need the `!important` here to be able to override the default hidden behavior on the sphinx rendered scikit-learn.org. See: https://github.com/scikit-learn/scikit-learn/issues/21755 */display: inline-block !important;position: relative;}#sk-container-id-1 div.sk-text-repr-fallback {display: none;}</style><div id=\"sk-container-id-1\" class=\"sk-top-container\"><div class=\"sk-text-repr-fallback\"><pre>MinMaxScaler()</pre><b>In a Jupyter environment, please rerun this cell to show the HTML representation or trust the notebook. <br />On GitHub, the HTML representation is unable to render, please try loading this page with nbviewer.org.</b></div><div class=\"sk-container\" hidden><div class=\"sk-item\"><div class=\"sk-estimator sk-toggleable\"><input class=\"sk-toggleable__control sk-hidden--visually\" id=\"sk-estimator-id-1\" type=\"checkbox\" checked><label for=\"sk-estimator-id-1\" class=\"sk-toggleable__label sk-toggleable__label-arrow\">MinMaxScaler</label><div class=\"sk-toggleable__content\"><pre>MinMaxScaler()</pre></div></div></div></div></div>"
            ]
          },
          "metadata": {},
          "execution_count": 15
        }
      ],
      "source": [
        "sc"
      ]
    },
    {
      "cell_type": "code",
      "execution_count": 16,
      "metadata": {
        "colab": {
          "base_uri": "https://localhost:8080/"
        },
        "id": "XWlmPwiJA0g_",
        "outputId": "91bf76c5-a94b-47c7-a3b8-b6ed1a195265"
      },
      "outputs": [
        {
          "output_type": "execute_result",
          "data": {
            "text/plain": [
              "array([[0.51409619, 0.72069757],\n",
              "       [0.50580431, 0.70812377],\n",
              "       [0.50801548, 0.70232889],\n",
              "       ...,\n",
              "       [0.89718076, 0.59419418],\n",
              "       [0.88004422, 0.598185  ],\n",
              "       [0.76782753, 0.59823967]])"
            ]
          },
          "metadata": {},
          "execution_count": 16
        }
      ],
      "source": [
        "sc_train"
      ]
    },
    {
      "cell_type": "code",
      "execution_count": 17,
      "metadata": {
        "id": "9cjpnjD6BKCk"
      },
      "outputs": [],
      "source": [
        "\n",
        "trainX = []\n",
        "trainY = []\n",
        "\n",
        "n_future = 1   # Number of days we want to look into the future based on the past days.\n",
        "n_past = 14  # Number of past days we want to use to predict the future.\n"
      ]
    },
    {
      "cell_type": "code",
      "execution_count": 18,
      "metadata": {
        "colab": {
          "base_uri": "https://localhost:8080/"
        },
        "id": "UQnQqbVjCK2b",
        "outputId": "3578504c-71e3-4969-9294-ccba0e55f2af"
      },
      "outputs": [
        {
          "output_type": "execute_result",
          "data": {
            "text/plain": [
              "2"
            ]
          },
          "metadata": {},
          "execution_count": 18
        }
      ],
      "source": [
        "train_data.shape[1]"
      ]
    },
    {
      "cell_type": "code",
      "execution_count": 19,
      "metadata": {
        "colab": {
          "base_uri": "https://localhost:8080/"
        },
        "id": "lOmRIkj7A2lf",
        "outputId": "b91d5c85-3785-495d-f920-bc00cfefb543"
      },
      "outputs": [
        {
          "output_type": "stream",
          "name": "stdout",
          "text": [
            "trainX shape == (3079, 14, 2).\n",
            "trainY shape == (3079, 1).\n"
          ]
        }
      ],
      "source": [
        "# 8-2\n",
        "#Tiến hành kahi báo 2 mảng dử liệu x_train và y_train\n",
        "# x_train,y_train=[],[]\n",
        "# for i in range(15,len(train_data)): #tạo vòng lặp\n",
        "#   x_train.append(sc_train[i-15:i,0]) #.append gán phần tử vào cuối mảng, bởi vì số ngày sẽ học để dự đoán 1 ngày tiếp theo là 60 nên -60 (mỗi mảng gồm giá 60 ngày)\n",
        "#   y_train.append(sc_train[i,0])\n",
        "\n",
        "for i in range(n_past, len(train_data) - n_future +1):\n",
        "    trainX.append(sc_train[i - n_past:i, 0:train_data.shape[1]])\n",
        "    trainY.append(sc_train[i + n_future - 1:i + n_future, 0])\n",
        "\n",
        "trainX, trainY = np.array(trainX), np.array(trainY)\n",
        "\n",
        "print('trainX shape == {}.'.format(trainX.shape))\n",
        "print('trainY shape == {}.'.format(trainY.shape))"
      ]
    },
    {
      "cell_type": "code",
      "execution_count": 20,
      "metadata": {
        "colab": {
          "base_uri": "https://localhost:8080/"
        },
        "id": "3uKX5b3gQ9aq",
        "outputId": "cc8424cc-7a88-474e-c36b-03ab180e05e4"
      },
      "outputs": [
        {
          "output_type": "execute_result",
          "data": {
            "text/plain": [
              "array([[[0.51409619, 0.72069757],\n",
              "        [0.50580431, 0.70812377],\n",
              "        [0.50801548, 0.70232889],\n",
              "        ...,\n",
              "        [0.54836926, 0.71047452],\n",
              "        [0.54560531, 0.70730374],\n",
              "        [0.55776672, 0.69205117]],\n",
              "\n",
              "       [[0.50580431, 0.70812377],\n",
              "        [0.50801548, 0.70232889],\n",
              "        [0.5063571 , 0.69844741],\n",
              "        ...,\n",
              "        [0.54560531, 0.70730374],\n",
              "        [0.55776672, 0.69205117],\n",
              "        [0.57711443, 0.69784605]],\n",
              "\n",
              "       [[0.50801548, 0.70232889],\n",
              "        [0.5063571 , 0.69844741],\n",
              "        [0.50082919, 0.70085283],\n",
              "        ...,\n",
              "        [0.55776672, 0.69205117],\n",
              "        [0.57711443, 0.69784605],\n",
              "        [0.57766722, 0.68904439]],\n",
              "\n",
              "       ...,\n",
              "\n",
              "       [[0.0326147 , 0.34665428],\n",
              "        [0.01437258, 0.34397551],\n",
              "        [0.02598121, 0.35638531],\n",
              "        ...,\n",
              "        [0.04311774, 0.39000656],\n",
              "        [0.03758983, 0.39973759],\n",
              "        [0.03150912, 0.39946425]],\n",
              "\n",
              "       [[0.01437258, 0.34397551],\n",
              "        [0.02598121, 0.35638531],\n",
              "        [0.03150912, 0.36660835],\n",
              "        ...,\n",
              "        [0.03758983, 0.39973759],\n",
              "        [0.03150912, 0.39946425],\n",
              "        [0.04256495, 0.40695386]],\n",
              "\n",
              "       [[0.02598121, 0.35638531],\n",
              "        [0.03150912, 0.36660835],\n",
              "        [0.03372029, 0.37967417],\n",
              "        ...,\n",
              "        [0.03150912, 0.39946425],\n",
              "        [0.04256495, 0.40695386],\n",
              "        [0.05362078, 0.40957796]]])"
            ]
          },
          "metadata": {},
          "execution_count": 20
        }
      ],
      "source": [
        "trainX"
      ]
    },
    {
      "cell_type": "code",
      "source": [
        "trainX.shape[2]"
      ],
      "metadata": {
        "colab": {
          "base_uri": "https://localhost:8080/"
        },
        "id": "U6jNfxGob3GG",
        "outputId": "d9dbbba0-7a08-41a3-828e-6301a71af35e"
      },
      "execution_count": 21,
      "outputs": [
        {
          "output_type": "execute_result",
          "data": {
            "text/plain": [
              "2"
            ]
          },
          "metadata": {},
          "execution_count": 21
        }
      ]
    },
    {
      "cell_type": "code",
      "execution_count": 22,
      "metadata": {
        "colab": {
          "base_uri": "https://localhost:8080/"
        },
        "id": "U6nu4yOxCOhl",
        "outputId": "3b200175-cc5a-4eae-f768-9d4cd76b3ead"
      },
      "outputs": [
        {
          "output_type": "stream",
          "name": "stderr",
          "text": [
            "WARNING:tensorflow:Layer lstm will not use cuDNN kernels since it doesn't meet the criteria. It will use a generic GPU kernel as fallback when running on GPU.\n",
            "WARNING:tensorflow:Layer lstm_1 will not use cuDNN kernels since it doesn't meet the criteria. It will use a generic GPU kernel as fallback when running on GPU.\n",
            "WARNING:tensorflow:Layer lstm_2 will not use cuDNN kernels since it doesn't meet the criteria. It will use a generic GPU kernel as fallback when running on GPU.\n"
          ]
        },
        {
          "output_type": "stream",
          "name": "stdout",
          "text": [
            "Model: \"sequential\"\n",
            "_________________________________________________________________\n",
            " Layer (type)                Output Shape              Param #   \n",
            "=================================================================\n",
            " lstm (LSTM)                 (None, 14, 64)            17152     \n",
            "                                                                 \n",
            " dropout (Dropout)           (None, 14, 64)            0         \n",
            "                                                                 \n",
            " lstm_1 (LSTM)               (None, 14, 32)            12416     \n",
            "                                                                 \n",
            " dropout_1 (Dropout)         (None, 14, 32)            0         \n",
            "                                                                 \n",
            " lstm_2 (LSTM)               (None, 16)                3136      \n",
            "                                                                 \n",
            " dropout_2 (Dropout)         (None, 16)                0         \n",
            "                                                                 \n",
            " dense (Dense)               (None, 25)                425       \n",
            "                                                                 \n",
            " dropout_3 (Dropout)         (None, 25)                0         \n",
            "                                                                 \n",
            " dense_1 (Dense)             (None, 1)                 26        \n",
            "                                                                 \n",
            "=================================================================\n",
            "Total params: 33,155\n",
            "Trainable params: 33,155\n",
            "Non-trainable params: 0\n",
            "_________________________________________________________________\n"
          ]
        }
      ],
      "source": [
        "# # 8-2\n",
        "# #Xây dựng mô hình\n",
        "# model=Sequential() #đầu vào, tạo list lưu trữ các danh sách (list)\n",
        "# model.add(LSTM(units=64, activation='relu', input_shape=(trainX.shape[1], trainX.shape[2]), return_sequences=True)) # tạo lớp LSTM - mô tả thông tin đầu vào\n",
        "# model.add(Dropout(0.5))\n",
        "# model.add(LSTM(units=64, activation='relu', return_sequences=True))\n",
        "# model.add(Dropout(0.5))\n",
        "# model.add(LSTM(units=32, activation='relu'))\n",
        "# model.add(Dropout(0.5))\n",
        "# model.add(Dense(25))\n",
        "# model.add(Dropout(0.5)) #Tránh việc học thuộc (dùng để giả định một phần các unit bị ẩn đi trong quá trình training, qua đó làm giảm tích hòa trộn)\n",
        "# model.add(Dense(trainY.shape[1])) #Đầu ra một chiều dùng để dự báo cho một giá trị (chiều đầu ra)\n",
        "# model.compile(loss='mean_absolute_error', optimizer='adam') #mean_absolute_error: dụng để đánh giá sự sai khác giữa mô hình dự đoán và tập dữ liệu testing, adam: dùng để tối ưu tốc độ học\n",
        "# model.summary()\n",
        "\n",
        "from keras import regularizers\n",
        "\n",
        "model = Sequential()\n",
        "model.add(LSTM(units=64, activation='relu', input_shape=(trainX.shape[1], trainX.shape[2]), return_sequences=True))\n",
        "model.add(Dropout(0.5))\n",
        "model.add(LSTM(units=32, activation='relu', return_sequences=True))\n",
        "model.add(Dropout(0.5))\n",
        "model.add(LSTM(units=16, activation='relu'))\n",
        "model.add(Dropout(0.5))\n",
        "model.add(Dense(25, activation='relu', kernel_regularizer=regularizers.l2(0.01)))\n",
        "model.add(Dropout(0.2))\n",
        "model.add(Dense(trainY.shape[1]))\n",
        "\n",
        "model.compile(loss='mean_absolute_error', optimizer='adam')\n",
        "model.summary()\n"
      ]
    },
    {
      "cell_type": "code",
      "execution_count": 23,
      "metadata": {
        "colab": {
          "base_uri": "https://localhost:8080/"
        },
        "id": "RFpWKKpqCjSh",
        "outputId": "21344874-3633-417c-b93f-9c4bbe8c9051"
      },
      "outputs": [
        {
          "output_type": "stream",
          "name": "stdout",
          "text": [
            "Epoch 1/50\n",
            "\n",
            "Epoch 1: loss improved from inf to 0.29395, saving model to save_model.h5\n",
            "97/97 - 21s - loss: 0.2940 - 21s/epoch - 213ms/step\n",
            "Epoch 2/50\n",
            "\n",
            "Epoch 2: loss improved from 0.29395 to 0.17463, saving model to save_model.h5\n",
            "97/97 - 10s - loss: 0.1746 - 10s/epoch - 108ms/step\n",
            "Epoch 3/50\n",
            "\n",
            "Epoch 3: loss improved from 0.17463 to 0.13150, saving model to save_model.h5\n",
            "97/97 - 10s - loss: 0.1315 - 10s/epoch - 108ms/step\n",
            "Epoch 4/50\n",
            "\n",
            "Epoch 4: loss improved from 0.13150 to 0.10718, saving model to save_model.h5\n",
            "97/97 - 13s - loss: 0.1072 - 13s/epoch - 129ms/step\n",
            "Epoch 5/50\n",
            "\n",
            "Epoch 5: loss improved from 0.10718 to 0.09342, saving model to save_model.h5\n",
            "97/97 - 8s - loss: 0.0934 - 8s/epoch - 83ms/step\n",
            "Epoch 6/50\n",
            "\n",
            "Epoch 6: loss improved from 0.09342 to 0.08389, saving model to save_model.h5\n",
            "97/97 - 10s - loss: 0.0839 - 10s/epoch - 107ms/step\n",
            "Epoch 7/50\n",
            "\n",
            "Epoch 7: loss improved from 0.08389 to 0.07136, saving model to save_model.h5\n",
            "97/97 - 11s - loss: 0.0714 - 11s/epoch - 109ms/step\n",
            "Epoch 8/50\n",
            "\n",
            "Epoch 8: loss improved from 0.07136 to 0.06717, saving model to save_model.h5\n",
            "97/97 - 8s - loss: 0.0672 - 8s/epoch - 84ms/step\n",
            "Epoch 9/50\n",
            "\n",
            "Epoch 9: loss improved from 0.06717 to 0.06291, saving model to save_model.h5\n",
            "97/97 - 11s - loss: 0.0629 - 11s/epoch - 111ms/step\n",
            "Epoch 10/50\n",
            "\n",
            "Epoch 10: loss improved from 0.06291 to 0.06141, saving model to save_model.h5\n",
            "97/97 - 11s - loss: 0.0614 - 11s/epoch - 109ms/step\n",
            "Epoch 11/50\n",
            "\n",
            "Epoch 11: loss improved from 0.06141 to 0.05972, saving model to save_model.h5\n",
            "97/97 - 9s - loss: 0.0597 - 9s/epoch - 96ms/step\n",
            "Epoch 12/50\n",
            "\n",
            "Epoch 12: loss improved from 0.05972 to 0.05669, saving model to save_model.h5\n",
            "97/97 - 9s - loss: 0.0567 - 9s/epoch - 96ms/step\n",
            "Epoch 13/50\n",
            "\n",
            "Epoch 13: loss improved from 0.05669 to 0.05513, saving model to save_model.h5\n",
            "97/97 - 11s - loss: 0.0551 - 11s/epoch - 108ms/step\n",
            "Epoch 14/50\n",
            "\n",
            "Epoch 14: loss did not improve from 0.05513\n",
            "97/97 - 11s - loss: 0.0578 - 11s/epoch - 111ms/step\n",
            "Epoch 15/50\n",
            "\n",
            "Epoch 15: loss improved from 0.05513 to 0.05413, saving model to save_model.h5\n",
            "97/97 - 8s - loss: 0.0541 - 8s/epoch - 85ms/step\n",
            "Epoch 16/50\n",
            "\n",
            "Epoch 16: loss did not improve from 0.05413\n",
            "97/97 - 13s - loss: 0.0559 - 13s/epoch - 130ms/step\n",
            "Epoch 17/50\n",
            "\n",
            "Epoch 17: loss did not improve from 0.05413\n",
            "97/97 - 10s - loss: 0.0556 - 10s/epoch - 106ms/step\n",
            "Epoch 18/50\n",
            "\n",
            "Epoch 18: loss did not improve from 0.05413\n",
            "97/97 - 8s - loss: 0.0550 - 8s/epoch - 84ms/step\n",
            "Epoch 19/50\n",
            "\n",
            "Epoch 19: loss did not improve from 0.05413\n",
            "97/97 - 10s - loss: 0.0546 - 10s/epoch - 108ms/step\n",
            "Epoch 20/50\n",
            "\n",
            "Epoch 20: loss improved from 0.05413 to 0.05343, saving model to save_model.h5\n",
            "97/97 - 10s - loss: 0.0534 - 10s/epoch - 106ms/step\n",
            "Epoch 21/50\n",
            "\n",
            "Epoch 21: loss improved from 0.05343 to 0.05298, saving model to save_model.h5\n",
            "97/97 - 8s - loss: 0.0530 - 8s/epoch - 85ms/step\n",
            "Epoch 22/50\n",
            "\n",
            "Epoch 22: loss improved from 0.05298 to 0.05286, saving model to save_model.h5\n",
            "97/97 - 10s - loss: 0.0529 - 10s/epoch - 107ms/step\n",
            "Epoch 23/50\n",
            "\n",
            "Epoch 23: loss did not improve from 0.05286\n",
            "97/97 - 10s - loss: 0.0532 - 10s/epoch - 106ms/step\n",
            "Epoch 24/50\n",
            "\n",
            "Epoch 24: loss improved from 0.05286 to 0.05083, saving model to save_model.h5\n",
            "97/97 - 9s - loss: 0.0508 - 9s/epoch - 91ms/step\n",
            "Epoch 25/50\n",
            "\n",
            "Epoch 25: loss did not improve from 0.05083\n",
            "97/97 - 10s - loss: 0.0522 - 10s/epoch - 104ms/step\n",
            "Epoch 26/50\n",
            "\n",
            "Epoch 26: loss did not improve from 0.05083\n",
            "97/97 - 10s - loss: 0.0519 - 10s/epoch - 106ms/step\n",
            "Epoch 27/50\n",
            "\n",
            "Epoch 27: loss improved from 0.05083 to 0.05061, saving model to save_model.h5\n",
            "97/97 - 9s - loss: 0.0506 - 9s/epoch - 94ms/step\n",
            "Epoch 28/50\n",
            "\n",
            "Epoch 28: loss did not improve from 0.05061\n",
            "97/97 - 9s - loss: 0.0517 - 9s/epoch - 95ms/step\n",
            "Epoch 29/50\n",
            "\n",
            "Epoch 29: loss improved from 0.05061 to 0.04948, saving model to save_model.h5\n",
            "97/97 - 10s - loss: 0.0495 - 10s/epoch - 106ms/step\n",
            "Epoch 30/50\n",
            "\n",
            "Epoch 30: loss improved from 0.04948 to 0.04861, saving model to save_model.h5\n",
            "97/97 - 10s - loss: 0.0486 - 10s/epoch - 104ms/step\n",
            "Epoch 31/50\n",
            "\n",
            "Epoch 31: loss improved from 0.04861 to 0.04830, saving model to save_model.h5\n",
            "97/97 - 9s - loss: 0.0483 - 9s/epoch - 88ms/step\n",
            "Epoch 32/50\n",
            "\n",
            "Epoch 32: loss did not improve from 0.04830\n",
            "97/97 - 10s - loss: 0.0509 - 10s/epoch - 107ms/step\n",
            "Epoch 33/50\n",
            "\n",
            "Epoch 33: loss improved from 0.04830 to 0.04763, saving model to save_model.h5\n",
            "97/97 - 10s - loss: 0.0476 - 10s/epoch - 106ms/step\n",
            "Epoch 34/50\n",
            "\n",
            "Epoch 34: loss improved from 0.04763 to 0.04744, saving model to save_model.h5\n",
            "97/97 - 8s - loss: 0.0474 - 8s/epoch - 83ms/step\n",
            "Epoch 35/50\n",
            "\n",
            "Epoch 35: loss did not improve from 0.04744\n",
            "97/97 - 10s - loss: 0.0475 - 10s/epoch - 107ms/step\n",
            "Epoch 36/50\n",
            "\n",
            "Epoch 36: loss did not improve from 0.04744\n",
            "97/97 - 10s - loss: 0.0487 - 10s/epoch - 107ms/step\n",
            "Epoch 37/50\n",
            "\n",
            "Epoch 37: loss improved from 0.04744 to 0.04716, saving model to save_model.h5\n",
            "97/97 - 8s - loss: 0.0472 - 8s/epoch - 83ms/step\n",
            "Epoch 38/50\n",
            "\n",
            "Epoch 38: loss did not improve from 0.04716\n",
            "97/97 - 10s - loss: 0.0474 - 10s/epoch - 108ms/step\n",
            "Epoch 39/50\n",
            "\n",
            "Epoch 39: loss improved from 0.04716 to 0.04696, saving model to save_model.h5\n",
            "97/97 - 11s - loss: 0.0470 - 11s/epoch - 109ms/step\n",
            "Epoch 40/50\n",
            "\n",
            "Epoch 40: loss improved from 0.04696 to 0.04649, saving model to save_model.h5\n",
            "97/97 - 8s - loss: 0.0465 - 8s/epoch - 86ms/step\n",
            "Epoch 41/50\n",
            "\n",
            "Epoch 41: loss did not improve from 0.04649\n",
            "97/97 - 13s - loss: 0.0467 - 13s/epoch - 131ms/step\n",
            "Epoch 42/50\n",
            "\n",
            "Epoch 42: loss did not improve from 0.04649\n",
            "97/97 - 10s - loss: 0.0475 - 10s/epoch - 107ms/step\n",
            "Epoch 43/50\n",
            "\n",
            "Epoch 43: loss did not improve from 0.04649\n",
            "97/97 - 10s - loss: 0.0475 - 10s/epoch - 106ms/step\n",
            "Epoch 44/50\n",
            "\n",
            "Epoch 44: loss improved from 0.04649 to 0.04583, saving model to save_model.h5\n",
            "97/97 - 8s - loss: 0.0458 - 8s/epoch - 84ms/step\n",
            "Epoch 45/50\n",
            "\n",
            "Epoch 45: loss improved from 0.04583 to 0.04523, saving model to save_model.h5\n",
            "97/97 - 10s - loss: 0.0452 - 10s/epoch - 108ms/step\n",
            "Epoch 46/50\n",
            "\n",
            "Epoch 46: loss did not improve from 0.04523\n",
            "97/97 - 11s - loss: 0.0460 - 11s/epoch - 108ms/step\n",
            "Epoch 47/50\n",
            "\n",
            "Epoch 47: loss did not improve from 0.04523\n",
            "97/97 - 8s - loss: 0.0463 - 8s/epoch - 83ms/step\n",
            "Epoch 48/50\n",
            "\n",
            "Epoch 48: loss did not improve from 0.04523\n",
            "97/97 - 10s - loss: 0.0459 - 10s/epoch - 107ms/step\n",
            "Epoch 49/50\n",
            "\n",
            "Epoch 49: loss improved from 0.04523 to 0.04486, saving model to save_model.h5\n",
            "97/97 - 11s - loss: 0.0449 - 11s/epoch - 111ms/step\n",
            "Epoch 50/50\n",
            "\n",
            "Epoch 50: loss did not improve from 0.04486\n",
            "97/97 - 8s - loss: 0.0459 - 8s/epoch - 85ms/step\n"
          ]
        },
        {
          "output_type": "execute_result",
          "data": {
            "text/plain": [
              "<keras.callbacks.History at 0x7f9e58158820>"
            ]
          },
          "metadata": {},
          "execution_count": 23
        }
      ],
      "source": [
        "\n",
        "#huấn luyện mô hình mô hình\n",
        "save_model=\"save_model.h5\" #lưu lại mô hình với dạng file .h5\n",
        "best_model=ModelCheckpoint(save_model,monitor='loss',verbose=2,save_best_only=True, mode='auto') #tìm ra mô hình tốt nhất, save_best_only: lưu mô hình tốt nhất\n",
        "model.fit(trainX, trainY, epochs=50,verbose=2,callbacks=best_model) #lưu dữ liệu phần epochs\n",
        "# model.fit(x_train, y_train, batch_size= 32, epochs=30)\n",
        "\n",
        "\n"
      ]
    },
    {
      "cell_type": "code",
      "execution_count": 24,
      "metadata": {
        "colab": {
          "base_uri": "https://localhost:8080/",
          "height": 448
        },
        "id": "_t95KBhgC8Yt",
        "outputId": "9f40bb13-ee1b-49b0-cac9-98bc77f219d2"
      },
      "outputs": [
        {
          "output_type": "execute_result",
          "data": {
            "text/plain": [
              "[<matplotlib.lines.Line2D at 0x7f9dd8e26f20>]"
            ]
          },
          "metadata": {},
          "execution_count": 24
        },
        {
          "output_type": "display_data",
          "data": {
            "text/plain": [
              "<Figure size 640x480 with 1 Axes>"
            ],
            "image/png": "[encoded data removed]"
          },
          "metadata": {}
        }
      ],
      "source": [
        "loss_per_epoch = model.history.history['loss']\n",
        "plt.plot(loss_per_epoch)"
      ]
    },
    {
      "cell_type": "code",
      "source": [
        "loss = pd.DataFrame(loss_per_epoch, columns=['loss'])"
      ],
      "metadata": {
        "id": "egMdq4cQdM6E"
      },
      "execution_count": 25,
      "outputs": []
    },
    {
      "cell_type": "code",
      "source": [
        "loss.to_csv('loss_lstm.csv', index=False)"
      ],
      "metadata": {
        "id": "raQScha4eGOj"
      },
      "execution_count": 26,
      "outputs": []
    },
    {
      "cell_type": "code",
      "source": [
        "to.csv('')"
      ],
      "metadata": {
        "colab": {
          "base_uri": "https://localhost:8080/",
          "height": 170
        },
        "id": "2dRACnGId8jj",
        "outputId": "fca2049d-9053-44a8-f7fc-fbc019da0e0c"
      },
      "execution_count": 27,
      "outputs": [
        {
          "output_type": "error",
          "ename": "NameError",
          "evalue": "ignored",
          "traceback": [
            "\u001b[0;31m---------------------------------------------------------------------------\u001b[0m",
            "\u001b[0;31mNameError\u001b[0m                                 Traceback (most recent call last)",
            "\u001b[0;32m<ipython-input-27-5ccece5b7d73>\u001b[0m in \u001b[0;36m<cell line: 1>\u001b[0;34m()\u001b[0m\n\u001b[0;32m----> 1\u001b[0;31m \u001b[0mto\u001b[0m\u001b[0;34m.\u001b[0m\u001b[0mcsv\u001b[0m\u001b[0;34m(\u001b[0m\u001b[0;34m''\u001b[0m\u001b[0;34m)\u001b[0m\u001b[0;34m\u001b[0m\u001b[0;34m\u001b[0m\u001b[0m\n\u001b[0m",
            "\u001b[0;31mNameError\u001b[0m: name 'to' is not defined"
          ]
        }
      ]
    },
    {
      "cell_type": "code",
      "execution_count": null,
      "metadata": {
        "id": "GjK4Uf7CDjyk"
      },
      "outputs": [],
      "source": [
        "trainY"
      ]
    },
    {
      "cell_type": "code",
      "execution_count": null,
      "metadata": {
        "id": "-GJgOUk7GEpB"
      },
      "outputs": [],
      "source": [
        "train_data.shape"
      ]
    },
    {
      "cell_type": "code",
      "execution_count": null,
      "metadata": {
        "id": "f1gxczxwDATA"
      },
      "outputs": [],
      "source": [
        "# 8-2\n",
        "prediction_copies = np.repeat(trainY, train_data.shape[1], axis=-1)\n",
        "y_train=sc.inverse_transform(prediction_copies) #tiến hành xử lí số chuẩn hoá 0-1 thành giá vàng VND\n",
        "final_model=load_model('save_model.h5') #load lại mô hình tốt nhất đã lưu\n",
        "y_train_predict=final_model.predict(trainX) #giá dự đoán\n",
        "y_train_predict = np.repeat(y_train_predict, train_data.shape[1], axis=-1)\n",
        "y_train_predict=sc.inverse_transform(y_train_predict) #tiến hành xử lí số chuẩn hoá 0-1 thành giá vàng VND"
      ]
    },
    {
      "cell_type": "code",
      "execution_count": null,
      "metadata": {
        "id": "nhX8rLrjQmgu"
      },
      "outputs": [],
      "source": [
        "trainX"
      ]
    },
    {
      "cell_type": "code",
      "source": [
        "trainXX = trainX[1:]"
      ],
      "metadata": {
        "id": "yvL7Z_vAngsa"
      },
      "execution_count": null,
      "outputs": []
    },
    {
      "cell_type": "code",
      "source": [
        "trainXX"
      ],
      "metadata": {
        "id": "VAmuzAw9npoi"
      },
      "execution_count": null,
      "outputs": []
    },
    {
      "cell_type": "code",
      "execution_count": null,
      "metadata": {
        "id": "LOBmvgiHR2kq"
      },
      "outputs": [],
      "source": [
        "# 8-2\n",
        "test=df[len(train_data)-14:].values #trừ đi 14 ngày đầu tiên dùng để dự đoán ngày tiếp theo\n",
        "test=test.reshape(-1,2)\n",
        "sc_test=sc.transform(test)\n",
        "\n",
        "x_test=[]\n",
        "for i in range(n_past, len(test) - n_future +1):\n",
        "    x_test.append(sc_test[i - n_past:i, 0:train_data.shape[1]])\n",
        "x_test=np.array(x_test)\n",
        "\n",
        "y_test=data[training_data_len:]\n",
        "y_test_predict=final_model.predict(x_test)\n",
        "y_test_predict = np.repeat(y_test_predict, train_data.shape[1], axis=-1)\n",
        "y_test_predict=sc.inverse_transform(y_test_predict)"
      ]
    },
    {
      "cell_type": "code",
      "execution_count": null,
      "metadata": {
        "id": "xxB44PAojwD9"
      },
      "outputs": [],
      "source": [
        "x_test.shape"
      ]
    },
    {
      "cell_type": "code",
      "execution_count": null,
      "metadata": {
        "id": "cgSUPc9EapR2"
      },
      "outputs": [],
      "source": [
        "y_train_predict = y_train_predict[:, :-1]\n",
        "y_train_predict"
      ]
    },
    {
      "cell_type": "code",
      "execution_count": null,
      "metadata": {
        "id": "9aMgLTbGYHfA"
      },
      "outputs": [],
      "source": [
        "y_test_predict = y_test_predict[:, :-1]\n",
        "y_test_predict"
      ]
    },
    {
      "cell_type": "code",
      "execution_count": null,
      "metadata": {
        "id": "fvlZclffbFFB"
      },
      "outputs": [],
      "source": [
        "y_test_predict.shape"
      ]
    },
    {
      "cell_type": "code",
      "execution_count": null,
      "metadata": {
        "id": "sVy-5z2GbJm3"
      },
      "outputs": [],
      "source": [
        "y_train_predict.shape"
      ]
    },
    {
      "cell_type": "code",
      "execution_count": null,
      "metadata": {
        "id": "CzvaUzyIXRdN"
      },
      "outputs": [],
      "source": [
        "train_datal=df[14:training_data_len]\n",
        "test_datal=df[training_data_len:]\n",
        "\n",
        "# train_datal=df[30:4231] #vẽ đường predict với dữ liệu train\n",
        "# test_datal=df[4231:] #vẽ đường  predict với dữ liệu test\n",
        "format = ticker.StrMethodFormatter('{x:,.0f}')\n",
        "title = 'Coffee Price'\n",
        "ylabel = 'Prices (VND)'\n",
        "xlabel = 'Date'\n",
        "plt.figure(figsize=(21,5))\n",
        "plot = df['price_coffee'].plot(label=f\"Prices Data\",color='red')\n",
        "train_datal['prediction']=y_train_predict\n",
        "plot_pdtrain = train_datal['prediction'].plot(label=f\"Prediction train\", color='green')\n",
        "test_datal['prediction']=y_test_predict\n",
        "plot_pdtest = test_datal['prediction'].plot(label=f\"Prediction test\", color='blue')\n",
        "\n",
        "plot.autoscale(axis='x', tight=True)\n",
        "plot.set(xlabel=xlabel, ylabel=ylabel)\n",
        "plot.yaxis.set_major_formatter(format)\n",
        "plt.legend()\n",
        "plt.grid(True)\n",
        "plt.show()"
      ]
    },
    {
      "cell_type": "code",
      "execution_count": null,
      "metadata": {
        "id": "f64T9yCEiVfG"
      },
      "outputs": [],
      "source": [
        "train_datal"
      ]
    },
    {
      "cell_type": "code",
      "source": [
        "train_datal.to_csv('train_datal.csv', index=False)"
      ],
      "metadata": {
        "id": "8pX6H5GvNO-P"
      },
      "execution_count": null,
      "outputs": []
    },
    {
      "cell_type": "code",
      "source": [
        "test_datal.to_csv('test_datal.csv', index=False)"
      ],
      "metadata": {
        "id": "fv29zfuuNRo0"
      },
      "execution_count": null,
      "outputs": []
    },
    {
      "cell_type": "code",
      "source": [
        "train_check = train_datal"
      ],
      "metadata": {
        "id": "nl4c5qFCOg-J"
      },
      "execution_count": null,
      "outputs": []
    },
    {
      "cell_type": "code",
      "source": [
        "# train_check = train_datal\n",
        "train_check.reset_index(inplace=True)\n",
        "train_check.to_csv('train_check.csv', index=False)"
      ],
      "metadata": {
        "id": "Cfzff3dUOjm6"
      },
      "execution_count": null,
      "outputs": []
    },
    {
      "cell_type": "code",
      "source": [
        "train_datal"
      ],
      "metadata": {
        "id": "SFfszachM7pL"
      },
      "execution_count": null,
      "outputs": []
    },
    {
      "cell_type": "code",
      "source": [
        "test_check = test_datal\n",
        "test_check.reset_index(inplace=True)\n",
        "test_check.to_csv('test_check.csv', index=False)"
      ],
      "metadata": {
        "id": "2pVbaivEO4mN"
      },
      "execution_count": null,
      "outputs": []
    },
    {
      "cell_type": "code",
      "execution_count": null,
      "metadata": {
        "id": "M4abS-BFias8"
      },
      "outputs": [],
      "source": [
        "test_datal"
      ]
    },
    {
      "cell_type": "code",
      "execution_count": null,
      "metadata": {
        "id": "3dLZFveHioAA"
      },
      "outputs": [],
      "source": [
        "#8-2 train data\n",
        "print('R_square train: ', r2_score(train_datal['price_coffee'],train_datal['prediction'])) #R-squared (R2)\n",
        "print('MAE: ',mean_absolute_error(train_datal['price_coffee'],train_datal['prediction'])) #Mean Absolute Error (MAE) đo độ lớn trung bình của các lỗi trong một tập hợp các dự đoán\n",
        "mape =  mean_absolute_percentage_error(train_datal['price_coffee'],train_datal['prediction']) #MAPE (Mean absolute percentage error) là phần trăm sai số trung bình tuyệt đối\n",
        "print(f\"MAPE: {mape * 100:.2f}%\")\n",
        "print('MSE: ',mean_squared_error(train_datal['price_coffee'],train_datal['prediction']))\n",
        "print('RMSE: ',np.sqrt(mean_squared_error(train_datal['price_coffee'],train_datal['prediction'])))"
      ]
    },
    {
      "cell_type": "code",
      "execution_count": null,
      "metadata": {
        "id": "9NQHxSIBi2yl"
      },
      "outputs": [],
      "source": [
        "mape_t82 = mean_absolute_percentage_error(test_datal['price_coffee'],test_datal['prediction'])\n",
        "mape_percentage = mape_t82 * 100\n",
        "print(f\"MAPE: {mape_percentage:.2f}%\")\n",
        "print('RMSE: ',np.sqrt(mean_squared_error(test_datal['price_coffee'],test_datal['prediction'])))"
      ]
    },
    {
      "cell_type": "markdown",
      "metadata": {
        "id": "JKtyuLfC8C_s"
      },
      "source": [
        "### **PREDICT 30 DAYS**"
      ]
    },
    {
      "cell_type": "code",
      "source": [
        "sc=MinMaxScaler(feature_range=(0,1))\n",
        "sc_test=sc.fit_transform(test_data)"
      ],
      "metadata": {
        "id": "J-qAD5IBhEu8"
      },
      "execution_count": null,
      "outputs": []
    },
    {
      "cell_type": "code",
      "source": [
        "sc_test.shape"
      ],
      "metadata": {
        "id": "G52Mw_nIfMnC"
      },
      "execution_count": null,
      "outputs": []
    },
    {
      "cell_type": "code",
      "source": [
        "x_input = sc_test[-14:,].reshape(1, -1)\n",
        "\n",
        "x_input.shape"
      ],
      "metadata": {
        "id": "MR45Jzt2fZqs"
      },
      "execution_count": null,
      "outputs": []
    },
    {
      "cell_type": "code",
      "source": [
        "x_input"
      ],
      "metadata": {
        "id": "GkOolCt3fd1E"
      },
      "execution_count": null,
      "outputs": []
    },
    {
      "cell_type": "code",
      "source": [
        "temp_input = list(x_input)\n",
        "temp_input = temp_input[0].tolist()\n",
        "\n",
        "print(temp_input)"
      ],
      "metadata": {
        "id": "YEaor_AvfgKl"
      },
      "execution_count": null,
      "outputs": []
    },
    {
      "cell_type": "code",
      "source": [
        "len(temp_input)"
      ],
      "metadata": {
        "id": "b1T1rDV1iQbo"
      },
      "execution_count": null,
      "outputs": []
    },
    {
      "cell_type": "code",
      "source": [
        "lst_output = []\n",
        "n_steps = 14\n",
        "i = 0\n",
        "\n",
        "while i < 30:\n",
        "    if len(temp_input) > n_steps:\n",
        "        x_input=np.array(temp_input[0:])\n",
        "        x_input = x_input.reshape((1, n_steps, 2))\n",
        "        yhat = model.predict(x_input, verbose=0)\n",
        "        temp_input.extend(yhat[0].tolist())\n",
        "        temp_input = temp_input[1:]\n",
        "        lst_output.extend(yhat.tolist())\n",
        "\n",
        "        x_input=np.array(temp_input[0:])\n",
        "        x_input = x_input.reshape((1, n_steps, 2))\n",
        "        yhat = model.predict(x_input, verbose=0)\n",
        "        temp_input.extend(yhat[0].tolist())\n",
        "        temp_input = temp_input[1:]\n",
        "        i += 1\n",
        "    else:\n",
        "        x_input = np.array(temp_input).reshape((1, n_steps, 2))\n",
        "        yhat = model.predict(x_input, verbose=0)\n",
        "\n",
        "        temp_input.extend(yhat[0].tolist())\n",
        "        lst_output.extend(yhat.tolist())\n",
        "        i += 1\n",
        "\n"
      ],
      "metadata": {
        "id": "EKtSyhi6f5Cv"
      },
      "execution_count": null,
      "outputs": []
    },
    {
      "cell_type": "code",
      "source": [
        "lst_output"
      ],
      "metadata": {
        "id": "YwdXSx0Bf_hl"
      },
      "execution_count": null,
      "outputs": []
    },
    {
      "cell_type": "code",
      "source": [
        "day_new=np.arange(1,15)\n",
        "day_pred=np.arange(15,45)"
      ],
      "metadata": {
        "id": "gDGH45Zcu57_"
      },
      "execution_count": null,
      "outputs": []
    },
    {
      "cell_type": "code",
      "source": [
        "y_train_predict = np.repeat(lst_output, train_data.shape[1], axis=-1)\n",
        "y_train_predict_inv=sc.inverse_transform(y_train_predict)"
      ],
      "metadata": {
        "id": "duRk7gYqw0om"
      },
      "execution_count": null,
      "outputs": []
    },
    {
      "cell_type": "code",
      "source": [
        "y_train_predict_inv"
      ],
      "metadata": {
        "id": "Jj0MEBArxLIL"
      },
      "execution_count": null,
      "outputs": []
    },
    {
      "cell_type": "code",
      "source": [
        "y_train_predict_inv = y_train_predict_inv[:, :-1]\n",
        "y_train_predict_inv"
      ],
      "metadata": {
        "id": "B1xHrgDaxS29"
      },
      "execution_count": null,
      "outputs": []
    },
    {
      "cell_type": "code",
      "source": [
        "test_data = test_data[(len(test_data)-14):]"
      ],
      "metadata": {
        "id": "DFKDlGPjxmSd"
      },
      "execution_count": null,
      "outputs": []
    },
    {
      "cell_type": "code",
      "source": [
        "test_data"
      ],
      "metadata": {
        "id": "MfjRJhgJxuEJ"
      },
      "execution_count": null,
      "outputs": []
    },
    {
      "cell_type": "code",
      "source": [
        "test_data = test_data[:, :-1]"
      ],
      "metadata": {
        "id": "oecjxLyfxz4T"
      },
      "execution_count": null,
      "outputs": []
    },
    {
      "cell_type": "code",
      "source": [
        "pre_predict = test_data[(len(test_data)-14):]"
      ],
      "metadata": {
        "id": "srUNtUxPQcme"
      },
      "execution_count": null,
      "outputs": []
    },
    {
      "cell_type": "code",
      "source": [
        "pre_predict = test_datal[(len(test_datal)-14):]"
      ],
      "metadata": {
        "id": "yA7aebH9UYNu"
      },
      "execution_count": null,
      "outputs": []
    },
    {
      "cell_type": "code",
      "source": [
        "pre_predict"
      ],
      "metadata": {
        "id": "ZOoRwK40RIay"
      },
      "execution_count": null,
      "outputs": []
    },
    {
      "cell_type": "code",
      "source": [
        "pre_predict.to_csv('pre_predict.csv', index=False)"
      ],
      "metadata": {
        "id": "ucIXu--PWLr3"
      },
      "execution_count": null,
      "outputs": []
    },
    {
      "cell_type": "code",
      "source": [
        "pre_predict_df = pd.DataFrame(pre_predict, columns=['price_coffee_pre'])\n",
        "pre_predict_df"
      ],
      "metadata": {
        "id": "Zu22jki9Rl-i"
      },
      "execution_count": null,
      "outputs": []
    },
    {
      "cell_type": "code",
      "source": [
        "# test_check.reset_index(inplace=True)\n",
        "pre_predict_df.to_csv('pre_predict.csv', index=False)"
      ],
      "metadata": {
        "id": "nf6tOP3UQijg"
      },
      "execution_count": null,
      "outputs": []
    },
    {
      "cell_type": "code",
      "source": [
        "predict_df = pd.DataFrame(y_train_predict_inv, columns=['price_coffee_pre'])\n",
        "predict_df"
      ],
      "metadata": {
        "id": "Db8EbvLWQf20"
      },
      "execution_count": null,
      "outputs": []
    },
    {
      "cell_type": "code",
      "source": [
        "import pandas as pd\n",
        "\n",
        "# Get the latest date from the existing DataFrame\n",
        "latest_date = pre_predict['Date'].max()\n",
        "\n",
        "# Generate a range of business dates starting from the day after the latest date\n",
        "dates = pd.date_range(start=latest_date + pd.DateOffset(days=1), periods=len(predict_df), freq='B')\n",
        "\n",
        "# Assign the dates to the 'Date' column of pre_predict DataFrame\n",
        "predict_df['Date'] = dates\n",
        "predict_df = predict_df[['Date', 'price_coffee_pre']]\n"
      ],
      "metadata": {
        "id": "Dg9eyW-0Vf8T"
      },
      "execution_count": null,
      "outputs": []
    },
    {
      "cell_type": "code",
      "source": [
        "predict_df"
      ],
      "metadata": {
        "id": "z1n5EuHXV7tv"
      },
      "execution_count": null,
      "outputs": []
    },
    {
      "cell_type": "code",
      "source": [
        "predict_df = predict_df[['Date', 'price_coffee_pre']]\n"
      ],
      "metadata": {
        "id": "ziWE8_W3Vuow"
      },
      "execution_count": null,
      "outputs": []
    },
    {
      "cell_type": "code",
      "source": [
        "predict_df.to_csv('predict.csv', index=False)"
      ],
      "metadata": {
        "id": "7t-oTSWER5os"
      },
      "execution_count": null,
      "outputs": []
    },
    {
      "cell_type": "code",
      "source": [
        "plt.plot(day_new,test_data[(len(test_data)-14):])\n",
        "plt.plot(day_pred, y_train_predict_inv)"
      ],
      "metadata": {
        "id": "YXCaJpvGxWYw"
      },
      "execution_count": null,
      "outputs": []
    },
    {
      "cell_type": "code",
      "source": [
        "df_check = data[training_data_len:]\n"
      ],
      "metadata": {
        "id": "jyVGcvtSyuIO"
      },
      "execution_count": null,
      "outputs": []
    },
    {
      "cell_type": "code",
      "source": [
        "df_check"
      ],
      "metadata": {
        "id": "iklsd6FMyyjz"
      },
      "execution_count": null,
      "outputs": []
    },
    {
      "cell_type": "code",
      "source": [
        "df_check = df_check[:, :-1]"
      ],
      "metadata": {
        "id": "kHRujY_dy7Mr"
      },
      "execution_count": null,
      "outputs": []
    },
    {
      "cell_type": "code",
      "source": [
        "df_check"
      ],
      "metadata": {
        "id": "VLnzIJvNzjCL"
      },
      "execution_count": null,
      "outputs": []
    },
    {
      "cell_type": "code",
      "source": [
        "df_new=df_check.tolist()\n",
        "df_new.extend(y_train_predict_inv)\n",
        "plt.figure(figsize=(14,5))\n",
        "plt.plot(df_new)"
      ],
      "metadata": {
        "id": "Yivunw_Ux6zh"
      },
      "execution_count": null,
      "outputs": []
    },
    {
      "cell_type": "code",
      "source": [
        "print(\"Nhập ngày thứ x ban muốn xem kết quả:\")\n",
        "x=int(input())\n",
        "print(\"Bạn nhập ngày thứ:\",x)\n",
        "if x <=0 or x >30:\n",
        "  print(\"Không có kết quả\")\n",
        "else:\n",
        "  result = y_train_predict_inv[x-1]\n",
        "  print(\"Kết quả là: \",result)"
      ],
      "metadata": {
        "id": "pyKKUv400_Ic"
      },
      "execution_count": null,
      "outputs": []
    },
    {
      "cell_type": "markdown",
      "source": [
        "### **DASHBOARD**"
      ],
      "metadata": {
        "id": "EViTkN0Se-76"
      }
    },
    {
      "cell_type": "code",
      "source": [
        "!pip install dash\n"
      ],
      "metadata": {
        "id": "Oln0z-kOyatu"
      },
      "execution_count": null,
      "outputs": []
    },
    {
      "cell_type": "code",
      "source": [
        "\n",
        "import dash\n",
        "from dash import Dash, dcc, html\n",
        "import plotly.graph_objects as go\n",
        "# Khởi tạo ứng dụng Dash\n",
        "app = dash.Dash(__name__)\n",
        "\n",
        "# Tạo dữ liệu mẫu cho biểu đồ\n",
        "x = [1, 2, 3, 4, 5]\n",
        "y_train = [10, 20, 30, 40, 50]\n",
        "y_predict = [5, 10, 15, 20, 25]\n",
        "\n",
        "\n",
        "# Khung cuối cùng hiển thị thông tin dự đoán\n",
        "predict_info = html.Div(id='prediction-info')\n",
        "\n",
        "# Callback để xử lý sự kiện khi chọn model\n",
        "@app.callback(\n",
        "    dash.dependencies.Output('prediction-info', 'children'),\n",
        "    dash.dependencies.Input('model-dropdown', 'value')\n",
        ")\n",
        "def update_prediction_info(model):\n",
        "    if model == 'LSTM':\n",
        "        prediction = 15  # Giá trị dự đoán từ LSTM model\n",
        "        return f'Thông tin dự đoán giá là: {prediction}'\n",
        "    elif model == 'GRU':\n",
        "        prediction = 20  # Giá trị dự đoán từ GRU model\n",
        "        return f'Thông tin dự đoán giá là: {prediction}'\n",
        "    elif model == 'XGBOOST':\n",
        "        prediction = 25  # Giá trị dự đoán từ XGBOOST model\n",
        "        return f'Thông tin dự đoán giá là: {prediction}'\n",
        "    else:\n",
        "        return ''\n",
        "\n",
        "# Thiết lập giao diện\n",
        "app.layout = html.Div(className='container', children=[\n",
        "    # Phần navigation bar bên trái\n",
        "    html.Div(className='navbar', children=[\n",
        "        dcc.Dropdown(\n",
        "            id='model-dropdown',\n",
        "            options=[\n",
        "                {'label': 'LSTM model', 'value': 'LSTM'},\n",
        "                {'label': 'GRU model', 'value': 'GRU'},\n",
        "                {'label': 'XGBOOST model', 'value': 'XGBOOST'}\n",
        "            ],\n",
        "            value='LSTM'  # Giá trị mặc định\n",
        "        ,style={'text-align': 'center'}),\n",
        "    ]),\n",
        "\n",
        "    # Phần hiển thị biểu đồ chia thành 4 ô\n",
        "    html.Div(className='display', children=[\n",
        "        # Ô trên bên trái\n",
        "        html.Div(className='chart', children=[\n",
        "            dcc.Graph(figure=go.Figure(data=go.Scatter(x=x, y=y_train, mode='lines', name='Train'))),\n",
        "        ]),\n",
        "        # Ô trên bên phải\n",
        "        html.Div(className='chart', children=[\n",
        "            dcc.Graph(figure=go.Figure(data=go.Scatter(x=x, y=y_train, mode='lines', name='Train'))),\n",
        "        ]),\n",
        "        # Ô dưới bên trái\n",
        "        html.Div(className='chart', children=[\n",
        "            dcc.Graph(figure=go.Figure(data=go.Scatter(x=x, y=y_predict, mode='lines', name='Predict'))),\n",
        "        ]),\n",
        "        # Ô dưới bên phải\n",
        "        html.Div(className='chart', children=[\n",
        "            dcc.Graph(figure=go.Figure(data=go.Scatter(x=x, y=y_train, mode='lines', name='Train'))),\n",
        "        ]),\n",
        "    ], style={'display': 'grid', 'grid-template-columns': '1fr 1fr', 'grid-template-rows': '1fr 1fr'}),\n",
        "\n",
        "    # Phần dự đoán\n",
        "    html.Div(className='prediction', children=[\n",
        "        html.H3('Thông tin dự đoán', style={'text-align': 'center'}),\n",
        "        html.Div(predict_info, style={'text-align': 'center','padding-bottom':'10px'}),\n",
        "        html.Div(className='prediction-input', children=[\n",
        "            dcc.Input(id='input-day', type='number', placeholder='Nhập ngày', style={'width': '80%', 'text-align': 'center'}),\n",
        "            html.Button('Dự đoán', id='predict-button', n_clicks=0, style={'width': '80.75%', 'text-align': 'center'})\n",
        "        ], style={'text-align': 'center'}),\n",
        "    ]),\n",
        "])\n",
        "\n",
        "# # Khởi chạy ứng dụng\n",
        "if __name__ == '__main__':\n",
        "    app.run_server(model='external')\n"
      ],
      "metadata": {
        "id": "oPYjrSJ6e-aW"
      },
      "execution_count": null,
      "outputs": []
    }
  ],
  "metadata": {
    "accelerator": "GPU",
    "colab": {
      "provenance": []
    },
    "kernelspec": {
      "display_name": "Python 3",
      "name": "python3"
    },
    "language_info": {
      "name": "python"
    }
  },
  "nbformat": 4,
  "nbformat_minor": 0
}